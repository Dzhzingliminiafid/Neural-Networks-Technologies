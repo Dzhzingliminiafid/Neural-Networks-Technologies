{
 "cells": [
  {
   "cell_type": "code",
   "execution_count": 16,
   "id": "b40ca27b",
   "metadata": {},
   "outputs": [],
   "source": [
    "import torch\n",
    "import torch.nn.functional as F\n",
    "from torch.autograd import grad\n",
    "import torch.nn as nn"
   ]
  },
  {
   "cell_type": "code",
   "execution_count": null,
   "id": "a8a9affb",
   "metadata": {},
   "outputs": [
    {
     "data": {
      "text/plain": [
       "tensor(0.0852)"
      ]
     },
     "execution_count": 13,
     "metadata": {},
     "output_type": "execute_result"
    }
   ],
   "source": [
    "#y = kx + b\n",
    "y = torch.tensor([1.0])\n",
    "x = torch.tensor([1.1])\n",
    "w = torch.tensor([2.2], requires_grad=True)\n",
    "b = torch.tensor([0.0], requires_grad=True)\n",
    "\n",
    "z = w * x + b\n",
    "\n",
    "a = torch.sigmoid(z)\n",
    "loss = F.binary_cross_entropy(a, y)\n",
    "\n",
    "loss # тоже тензор :#\n",
    "\n",
    "grad_L_w = grad(loss, w, retain_graph=True)[0]  # добавил [0]\n",
    "grad_L_b = grad(loss, b, retain_graph=True)[0]  # добавил [0]\n",
    "\n",
    "print(\"Градиенты через grad():\")\n",
    "print(\"grad_L_b:\", grad_L_b)\n",
    "print(\"grad_L_w:\", grad_L_w)\n",
    "\n",
    "# или тоже самое\n",
    "\n",
    "loss.backward()\n",
    "print(\"\\nГрадиенты через backward():\")\n",
    "print(\"w.grad:\", w.grad)\n",
    "print(\"b.grad:\", b.grad)\n"
   ]
  },
  {
   "cell_type": "code",
   "execution_count": null,
   "id": "0952ad60",
   "metadata": {},
   "outputs": [],
   "source": [
    "class NeuralNetwork(nn.Module):\n",
    "    def __init__(self, num_inputs, num_outputs):\n",
    "        super().__init__()\n",
    "\n",
    "        self.layers = nn.Sequential(\n",
    "            # 1st layer (input)\n",
    "            nn.Linear(num_inputs, 10),\n",
    "            nn.ReLU(),\n",
    "\n",
    "            # 2nd layer (hidden)\n",
    "            nn.Linear(10, 10),\n",
    "            nn.ReLU(),\n",
    "\n",
    "            # 3rd layer (output)\n",
    "            nn.Linear(10, num_outputs),\n",
    "            nn.Sigmoid()\n",
    "        )\n",
    "        \n",
    "    def forward(self, x):\n",
    "        return self.layers(x)\n",
    "\n",
    "        "
   ]
  },
  {
   "cell_type": "code",
   "execution_count": null,
   "id": "382a0942",
   "metadata": {},
   "outputs": [
    {
     "name": "stdout",
     "output_type": "stream",
     "text": [
      "tensor([[ 0.1934, -0.2205, -0.2402]])\n"
     ]
    }
   ],
   "source": [
    "\n",
    "model = NeuralNetwork(4, 3)\n",
    "#print(model.layers[2].weight)\n",
    "\n",
    "params = [p for p in model.parameters() if p.requires_grad]\n",
    "params\n",
    "\n",
    "\n",
    "with torch.no_grad():\n",
    "    x = torch.rand((1, 4))\n",
    "    y = model(x)\n",
    "\n",
    "\n",
    "    out = torch.softmax(y , dim = 1)\n",
    "\n",
    "\n",
    "print(y)"
   ]
  },
  {
   "cell_type": "code",
   "execution_count": null,
   "id": "7eca59f1",
   "metadata": {},
   "outputs": [],
   "source": [
    "X_train = torch.tensor([\n",
    "    [-2.2, ]\n",
    "\n",
    "]\n",
    ")"
   ]
  }
 ],
 "metadata": {
  "kernelspec": {
   "display_name": "Python 3",
   "language": "python",
   "name": "python3"
  },
  "language_info": {
   "codemirror_mode": {
    "name": "ipython",
    "version": 3
   },
   "file_extension": ".py",
   "mimetype": "text/x-python",
   "name": "python",
   "nbconvert_exporter": "python",
   "pygments_lexer": "ipython3",
   "version": "3.12.2"
  }
 },
 "nbformat": 4,
 "nbformat_minor": 5
}
