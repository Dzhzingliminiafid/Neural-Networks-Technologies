{
 "cells": [
  {
   "cell_type": "code",
   "execution_count": 2,
   "id": "initial_id",
   "metadata": {
    "ExecuteTime": {
     "end_time": "2025-09-24T17:35:33.182381Z",
     "start_time": "2025-09-24T17:35:33.156912Z"
    },
    "collapsed": true
   },
   "outputs": [],
   "source": [
    "import numpy as np\n",
    "import pandas as pd\n",
    "import matplotlib.pyplot as plt\n",
    "import seaborn as sns\n",
    "from sklearn.impute import KNNImputer\n",
    "from sklearn.datasets import load_iris\n",
    "from sklearn.pipeline import Pipeline\n"
   ]
  },
  {
   "cell_type": "code",
   "execution_count": 3,
   "id": "56491301473a43e6",
   "metadata": {
    "ExecuteTime": {
     "end_time": "2025-09-23T23:21:20.322366Z",
     "start_time": "2025-09-23T23:21:20.277537Z"
    },
    "collapsed": false
   },
   "outputs": [],
   "source": [
    "df_train = pd.read_csv('train.csv')\n",
    "df_test = pd.read_csv('test.csv')\n",
    "df_test['Transported'] = False\n",
    "df = pd.concat([df_train, df_test], sort = False)\n",
    "df.drop(['Name', 'PassengerId'], axis=1, inplace=True)\n",
    "\n",
    "\n",
    "\n"
   ]
  },
  {
   "cell_type": "code",
   "execution_count": 4,
   "id": "cc0cd3c71477da49",
   "metadata": {
    "ExecuteTime": {
     "end_time": "2025-09-23T23:21:20.329569Z",
     "start_time": "2025-09-23T23:21:20.323374Z"
    },
    "collapsed": false
   },
   "outputs": [
    {
     "data": {
      "text/plain": [
       "True"
      ]
     },
     "execution_count": 4,
     "metadata": {},
     "output_type": "execute_result"
    }
   ],
   "source": [
    "df.shape[0] == df_train.shape[0] + df_test.shape[0]"
   ]
  },
  {
   "cell_type": "code",
   "execution_count": 5,
   "id": "795908d2c2bfca23",
   "metadata": {
    "ExecuteTime": {
     "end_time": "2025-09-23T23:21:20.388588Z",
     "start_time": "2025-09-23T23:21:20.360582Z"
    },
    "collapsed": false
   },
   "outputs": [],
   "source": [
    "df[['Deck', 'Num', 'Side']] = df['Cabin'].str.split('/', expand=True)\n",
    "df = df.drop(columns=['Cabin'])\n",
    "df['Deck'] = df['Deck'].fillna('Unknown')\n",
    "df['Num'] = df['Num'].fillna(-1)\n",
    "df['Side'] = df['Side'].fillna('Unknown')\n"
   ]
  },
  {
   "cell_type": "code",
   "execution_count": 6,
   "id": "445d4ea142d1afe6",
   "metadata": {
    "ExecuteTime": {
     "end_time": "2025-09-23T23:21:20.400512Z",
     "start_time": "2025-09-23T23:21:20.390593Z"
    },
    "collapsed": false
   },
   "outputs": [],
   "source": [
    "df['Deck'] = df['Deck'].map({'G' : 0, 'F' : 1, 'E' : 2, 'D' : 3, 'C' : 4, 'B' : 5, 'A' : 6, 'U' : 7, 'T' : 8})\n",
    "df['Side'] = df['Side'].map({'U' : -1, 'P' : 1, 'S' : 2})"
   ]
  },
  {
   "cell_type": "code",
   "execution_count": 7,
   "id": "29a97d988daf3496",
   "metadata": {
    "ExecuteTime": {
     "end_time": "2025-09-23T23:21:22.453865Z",
     "start_time": "2025-09-23T23:21:20.402517Z"
    },
    "collapsed": false
   },
   "outputs": [
    {
     "name": "stdout",
     "output_type": "stream",
     "text": [
      "['Destination', 'Transported', 'HomePlanet']\n"
     ]
    }
   ],
   "source": [
    "impute_lis = ['Age', 'VIP', 'Num', 'CryoSleep', 'Side', 'Deck', 'RoomService', 'FoodCourt', 'ShoppingMall', 'Spa', 'VRDeck']\n",
    "rest = list(set(df.columns) - set(impute_lis))\n",
    "print(rest)\n",
    "df_rest = df[rest]\n",
    "imp = KNNImputer(n_neighbors = 5)\n",
    "df_imputed = imp.fit_transform(df[impute_lis])\n",
    "df_imputed = pd.DataFrame(df_imputed, columns= impute_lis)\n",
    "df = pd.concat([df_rest.reset_index(drop = True), df_imputed.reset_index(drop = True)], axis=1)"
   ]
  },
  {
   "cell_type": "code",
   "execution_count": 8,
   "id": "a792940b0c8ba5fb",
   "metadata": {
    "ExecuteTime": {
     "end_time": "2025-09-23T23:21:22.470801Z",
     "start_time": "2025-09-23T23:21:22.454867Z"
    },
    "collapsed": false
   },
   "outputs": [],
   "source": [
    "df['HomePlanet'] = df['HomePlanet'].fillna('U')\n",
    "df['Destination'] = df['Destination'].fillna('U')\n",
    "category_colls = ['HomePlanet', 'Destination']\n",
    "\n",
    "for col in category_colls:\n",
    "    df = pd.concat([df, pd.get_dummies(df[col], prefix = col)], axis = 1)\n",
    "    \n",
    "df = df.drop(columns= category_colls)"
   ]
  },
  {
   "cell_type": "code",
   "execution_count": 9,
   "id": "99f55858c1694fa",
   "metadata": {
    "ExecuteTime": {
     "end_time": "2025-09-23T23:21:22.490224Z",
     "start_time": "2025-09-23T23:21:22.471803Z"
    },
    "collapsed": false
   },
   "outputs": [],
   "source": [
    "bill_cols = ['RoomService', 'FoodCourt', 'ShoppingMall', 'Spa', 'VRDeck']\n",
    "df['total_spent'] = df[bill_cols].sum(axis = 1)\n",
    "df['std_total_spent'] = df[bill_cols].std(axis = 1)\n",
    "df['mean_total_spent'] = df[bill_cols].mean(axis = 1)\n",
    "\n",
    "df['the_firts_three'] = df['CryoSleep'] + df['HomePlanet_Europa'] + df['Destination_55 Cancri e']\n",
    "df['three_low'] = df['mean_total_spent'] + df['HomePlanet_Earth'] + df['total_spent']\n"
   ]
  },
  {
   "cell_type": "code",
   "execution_count": 10,
   "id": "df4f32d24620c990",
   "metadata": {
    "ExecuteTime": {
     "end_time": "2025-09-23T23:21:22.516255Z",
     "start_time": "2025-09-23T23:21:22.491228Z"
    },
    "collapsed": false
   },
   "outputs": [
    {
     "data": {
      "text/plain": [
       "Transported                  1.000000\n",
       "CryoSleep                    0.324373\n",
       "the_firts_three              0.284177\n",
       "HomePlanet_Europa            0.131977\n",
       "Deck                         0.086721\n",
       "Destination_55 Cancri e      0.083625\n",
       "Side                         0.073111\n",
       "FoodCourt                    0.034739\n",
       "HomePlanet_U                 0.006403\n",
       "HomePlanet_Mars              0.005643\n",
       "ShoppingMall                 0.004175\n",
       "Destination_PSO J318.5-22    0.000760\n",
       "Destination_U               -0.000554\n",
       "VIP                         -0.018720\n",
       "Num                         -0.035240\n",
       "Age                         -0.050550\n",
       "Destination_TRAPPIST-1e     -0.072731\n",
       "HomePlanet_Earth            -0.119644\n",
       "std_total_spent             -0.121144\n",
       "total_spent                 -0.140481\n",
       "mean_total_spent            -0.140481\n",
       "three_low                   -0.140505\n",
       "VRDeck                      -0.142783\n",
       "Spa                         -0.154759\n",
       "RoomService                 -0.175031\n",
       "Name: Transported, dtype: float64"
      ]
     },
     "execution_count": 10,
     "metadata": {},
     "output_type": "execute_result"
    }
   ],
   "source": [
    "df.corr()['Transported'].sort_values(ascending= False)"
   ]
  },
  {
   "cell_type": "code",
   "execution_count": 11,
   "id": "8f87bbaabda86b28",
   "metadata": {
    "ExecuteTime": {
     "end_time": "2025-09-23T23:21:22.537130Z",
     "start_time": "2025-09-23T23:21:22.517259Z"
    },
    "collapsed": false
   },
   "outputs": [
    {
     "data": {
      "text/html": [
       "<div>\n",
       "<style scoped>\n",
       "    .dataframe tbody tr th:only-of-type {\n",
       "        vertical-align: middle;\n",
       "    }\n",
       "\n",
       "    .dataframe tbody tr th {\n",
       "        vertical-align: top;\n",
       "    }\n",
       "\n",
       "    .dataframe thead th {\n",
       "        text-align: right;\n",
       "    }\n",
       "</style>\n",
       "<table border=\"1\" class=\"dataframe\">\n",
       "  <thead>\n",
       "    <tr style=\"text-align: right;\">\n",
       "      <th></th>\n",
       "      <th>Transported</th>\n",
       "      <th>Age</th>\n",
       "      <th>VIP</th>\n",
       "      <th>Num</th>\n",
       "      <th>CryoSleep</th>\n",
       "      <th>Side</th>\n",
       "      <th>Deck</th>\n",
       "      <th>RoomService</th>\n",
       "      <th>FoodCourt</th>\n",
       "      <th>ShoppingMall</th>\n",
       "      <th>...</th>\n",
       "      <th>HomePlanet_U</th>\n",
       "      <th>Destination_55 Cancri e</th>\n",
       "      <th>Destination_PSO J318.5-22</th>\n",
       "      <th>Destination_TRAPPIST-1e</th>\n",
       "      <th>Destination_U</th>\n",
       "      <th>total_spent</th>\n",
       "      <th>std_total_spent</th>\n",
       "      <th>mean_total_spent</th>\n",
       "      <th>the_firts_three</th>\n",
       "      <th>three_low</th>\n",
       "    </tr>\n",
       "  </thead>\n",
       "  <tbody>\n",
       "    <tr>\n",
       "      <th>0</th>\n",
       "      <td>False</td>\n",
       "      <td>39.0</td>\n",
       "      <td>0.0</td>\n",
       "      <td>0.0</td>\n",
       "      <td>0.0</td>\n",
       "      <td>1.0</td>\n",
       "      <td>5.0</td>\n",
       "      <td>0.0</td>\n",
       "      <td>0.0</td>\n",
       "      <td>0.0</td>\n",
       "      <td>...</td>\n",
       "      <td>False</td>\n",
       "      <td>False</td>\n",
       "      <td>False</td>\n",
       "      <td>True</td>\n",
       "      <td>False</td>\n",
       "      <td>0.0</td>\n",
       "      <td>0.000000</td>\n",
       "      <td>0.0</td>\n",
       "      <td>1.0</td>\n",
       "      <td>0.0</td>\n",
       "    </tr>\n",
       "    <tr>\n",
       "      <th>1</th>\n",
       "      <td>True</td>\n",
       "      <td>24.0</td>\n",
       "      <td>0.0</td>\n",
       "      <td>0.0</td>\n",
       "      <td>0.0</td>\n",
       "      <td>2.0</td>\n",
       "      <td>1.0</td>\n",
       "      <td>109.0</td>\n",
       "      <td>9.0</td>\n",
       "      <td>25.0</td>\n",
       "      <td>...</td>\n",
       "      <td>False</td>\n",
       "      <td>False</td>\n",
       "      <td>False</td>\n",
       "      <td>True</td>\n",
       "      <td>False</td>\n",
       "      <td>736.0</td>\n",
       "      <td>227.807375</td>\n",
       "      <td>147.2</td>\n",
       "      <td>0.0</td>\n",
       "      <td>884.2</td>\n",
       "    </tr>\n",
       "    <tr>\n",
       "      <th>2</th>\n",
       "      <td>False</td>\n",
       "      <td>58.0</td>\n",
       "      <td>1.0</td>\n",
       "      <td>0.0</td>\n",
       "      <td>0.0</td>\n",
       "      <td>2.0</td>\n",
       "      <td>6.0</td>\n",
       "      <td>43.0</td>\n",
       "      <td>3576.0</td>\n",
       "      <td>0.0</td>\n",
       "      <td>...</td>\n",
       "      <td>False</td>\n",
       "      <td>False</td>\n",
       "      <td>False</td>\n",
       "      <td>True</td>\n",
       "      <td>False</td>\n",
       "      <td>10383.0</td>\n",
       "      <td>3013.383198</td>\n",
       "      <td>2076.6</td>\n",
       "      <td>1.0</td>\n",
       "      <td>12459.6</td>\n",
       "    </tr>\n",
       "    <tr>\n",
       "      <th>3</th>\n",
       "      <td>False</td>\n",
       "      <td>33.0</td>\n",
       "      <td>0.0</td>\n",
       "      <td>0.0</td>\n",
       "      <td>0.0</td>\n",
       "      <td>2.0</td>\n",
       "      <td>6.0</td>\n",
       "      <td>0.0</td>\n",
       "      <td>1283.0</td>\n",
       "      <td>371.0</td>\n",
       "      <td>...</td>\n",
       "      <td>False</td>\n",
       "      <td>False</td>\n",
       "      <td>False</td>\n",
       "      <td>True</td>\n",
       "      <td>False</td>\n",
       "      <td>5176.0</td>\n",
       "      <td>1373.410427</td>\n",
       "      <td>1035.2</td>\n",
       "      <td>1.0</td>\n",
       "      <td>6211.2</td>\n",
       "    </tr>\n",
       "    <tr>\n",
       "      <th>4</th>\n",
       "      <td>True</td>\n",
       "      <td>16.0</td>\n",
       "      <td>0.0</td>\n",
       "      <td>1.0</td>\n",
       "      <td>0.0</td>\n",
       "      <td>2.0</td>\n",
       "      <td>1.0</td>\n",
       "      <td>303.0</td>\n",
       "      <td>70.0</td>\n",
       "      <td>151.0</td>\n",
       "      <td>...</td>\n",
       "      <td>False</td>\n",
       "      <td>False</td>\n",
       "      <td>False</td>\n",
       "      <td>True</td>\n",
       "      <td>False</td>\n",
       "      <td>1091.0</td>\n",
       "      <td>223.988169</td>\n",
       "      <td>218.2</td>\n",
       "      <td>0.0</td>\n",
       "      <td>1310.2</td>\n",
       "    </tr>\n",
       "  </tbody>\n",
       "</table>\n",
       "<p>5 rows × 25 columns</p>\n",
       "</div>"
      ],
      "text/plain": [
       "   Transported   Age  VIP  Num  CryoSleep  Side  Deck  RoomService  FoodCourt  \\\n",
       "0        False  39.0  0.0  0.0        0.0   1.0   5.0          0.0        0.0   \n",
       "1         True  24.0  0.0  0.0        0.0   2.0   1.0        109.0        9.0   \n",
       "2        False  58.0  1.0  0.0        0.0   2.0   6.0         43.0     3576.0   \n",
       "3        False  33.0  0.0  0.0        0.0   2.0   6.0          0.0     1283.0   \n",
       "4         True  16.0  0.0  1.0        0.0   2.0   1.0        303.0       70.0   \n",
       "\n",
       "   ShoppingMall  ...  HomePlanet_U  Destination_55 Cancri e  \\\n",
       "0           0.0  ...         False                    False   \n",
       "1          25.0  ...         False                    False   \n",
       "2           0.0  ...         False                    False   \n",
       "3         371.0  ...         False                    False   \n",
       "4         151.0  ...         False                    False   \n",
       "\n",
       "   Destination_PSO J318.5-22  Destination_TRAPPIST-1e  Destination_U  \\\n",
       "0                      False                     True          False   \n",
       "1                      False                     True          False   \n",
       "2                      False                     True          False   \n",
       "3                      False                     True          False   \n",
       "4                      False                     True          False   \n",
       "\n",
       "   total_spent  std_total_spent  mean_total_spent  the_firts_three  three_low  \n",
       "0          0.0         0.000000               0.0              1.0        0.0  \n",
       "1        736.0       227.807375             147.2              0.0      884.2  \n",
       "2      10383.0      3013.383198            2076.6              1.0    12459.6  \n",
       "3       5176.0      1373.410427            1035.2              1.0     6211.2  \n",
       "4       1091.0       223.988169             218.2              0.0     1310.2  \n",
       "\n",
       "[5 rows x 25 columns]"
      ]
     },
     "execution_count": 11,
     "metadata": {},
     "output_type": "execute_result"
    }
   ],
   "source": [
    "df.head()"
   ]
  },
  {
   "cell_type": "code",
   "execution_count": 12,
   "id": "edc923b1c75a5888",
   "metadata": {
    "ExecuteTime": {
     "end_time": "2025-09-23T23:21:22.548677Z",
     "start_time": "2025-09-23T23:21:22.538135Z"
    },
    "collapsed": false
   },
   "outputs": [
    {
     "data": {
      "text/plain": [
       "((8693, 25), (4277, 24))"
      ]
     },
     "execution_count": 12,
     "metadata": {},
     "output_type": "execute_result"
    }
   ],
   "source": [
    "df_train, df_test = df[:df_train.shape[0]], df[df_train.shape[0]:]\n",
    "df_test = df_test.drop(columns= 'Transported')\n",
    "df_train.shape, df_test.shape"
   ]
  },
  {
   "cell_type": "code",
   "execution_count": 13,
   "id": "ac5c0cfcc5ff8101",
   "metadata": {
    "ExecuteTime": {
     "end_time": "2025-09-23T23:21:22.553894Z",
     "start_time": "2025-09-23T23:21:22.549683Z"
    },
    "collapsed": false
   },
   "outputs": [],
   "source": [
    "from lightgbm import LGBMClassifier\n",
    "from sklearn.model_selection import train_test_split\n",
    "from sklearn.metrics import accuracy_score"
   ]
  },
  {
   "cell_type": "code",
   "execution_count": 14,
   "id": "40c9d60acc6fad8",
   "metadata": {
    "ExecuteTime": {
     "end_time": "2025-09-23T23:21:22.567523Z",
     "start_time": "2025-09-23T23:21:22.555901Z"
    },
    "collapsed": false
   },
   "outputs": [],
   "source": [
    "X = df_train.drop(columns = 'Transported')\n",
    "y = df_train['Transported']\n",
    "\n",
    "X_train, X_test, y_train, y_test =train_test_split(X, y, test_size = 0.2, random_state =42)\n",
    "\n",
    "model = LGBMClassifier()"
   ]
  },
  {
   "cell_type": "code",
   "execution_count": 15,
   "id": "6012144461e7dbf8",
   "metadata": {
    "ExecuteTime": {
     "end_time": "2025-09-23T23:21:22.731169Z",
     "start_time": "2025-09-23T23:21:22.568524Z"
    },
    "collapsed": false
   },
   "outputs": [
    {
     "name": "stdout",
     "output_type": "stream",
     "text": [
      "[LightGBM] [Warning] Found whitespace in feature_names, replace with underlines\n",
      "[LightGBM] [Info] Number of positive: 3500, number of negative: 3454\n",
      "[LightGBM] [Info] Auto-choosing row-wise multi-threading, the overhead of testing was 0.001683 seconds.\n",
      "You can set `force_row_wise=true` to remove the overhead.\n",
      "And if memory is not enough, you can set `force_col_wise=true`.\n",
      "[LightGBM] [Info] Total Bins 2718\n",
      "[LightGBM] [Info] Number of data points in the train set: 6954, number of used features: 24\n",
      "[LightGBM] [Info] [binary:BoostFromScore]: pavg=0.503307 -> initscore=0.013230\n",
      "[LightGBM] [Info] Start training from score 0.013230\n"
     ]
    },
    {
     "data": {
      "text/plain": [
       "0.8021851638872916"
      ]
     },
     "execution_count": 15,
     "metadata": {},
     "output_type": "execute_result"
    }
   ],
   "source": [
    "model.fit(X_train, y_train)\n",
    "pred = model.predict(X_test)\n",
    "accuracy_score(y_test, pred)"
   ]
  },
  {
   "cell_type": "code",
   "execution_count": 16,
   "id": "18b5b3284ebf738a",
   "metadata": {
    "ExecuteTime": {
     "end_time": "2025-09-23T23:22:21.029438Z",
     "start_time": "2025-09-23T23:22:20.995607Z"
    },
    "collapsed": false
   },
   "outputs": [],
   "source": [
    "df_dummy = pd.read_csv('test.csv')\n",
    "pred = model.predict(df_test)\n",
    "\n",
    "final = pd.DataFrame()\n",
    "final['PassengerId'] = df_dummy['PassengerId']\n",
    "final['Transported'] = pred\n",
    "\n",
    "final.to_csv('submission.csv', index = False)"
   ]
  },
  {
   "cell_type": "code",
   "execution_count": null,
   "id": "3f97aa6bf5daa8ea",
   "metadata": {
    "collapsed": false
   },
   "outputs": [],
   "source": []
  },
  {
   "cell_type": "code",
   "execution_count": null,
   "id": "77df9520a974947d",
   "metadata": {
    "ExecuteTime": {
     "end_time": "2025-09-24T16:21:24.382953Z",
     "start_time": "2025-09-24T16:21:24.335123Z"
    },
    "collapsed": false
   },
   "outputs": [],
   "source": []
  },
  {
   "cell_type": "code",
   "execution_count": null,
   "id": "56ff78ed1589a541",
   "metadata": {
    "collapsed": false
   },
   "outputs": [],
   "source": []
  }
 ],
 "metadata": {
  "kernelspec": {
   "display_name": "Python 3",
   "language": "python",
   "name": "python3"
  },
  "language_info": {
   "codemirror_mode": {
    "name": "ipython",
    "version": 3
   },
   "file_extension": ".py",
   "mimetype": "text/x-python",
   "name": "python",
   "nbconvert_exporter": "python",
   "pygments_lexer": "ipython3",
   "version": "3.12.2"
  }
 },
 "nbformat": 4,
 "nbformat_minor": 5
}
